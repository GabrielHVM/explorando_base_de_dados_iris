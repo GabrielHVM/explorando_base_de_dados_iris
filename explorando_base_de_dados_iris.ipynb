{
  "nbformat": 4,
  "nbformat_minor": 0,
  "metadata": {
    "colab": {
      "name": "explorando_base_de_dados_iris.ipynb",
      "provenance": [],
      "authorship_tag": "ABX9TyNlQhlzpjjq44M8ToF/LP2m"
    },
    "kernelspec": {
      "name": "python3",
      "display_name": "Python 3"
    },
    "language_info": {
      "name": "python"
    }
  },
  "cells": [
    {
      "cell_type": "markdown",
      "metadata": {
        "id": "A6wNdCn12AE8"
      },
      "source": [
        "# Disciplina de Inteligência Artifical\n",
        "Explorando base de dados iris\n",
        "\n",
        "## Proposta\n",
        "A proposta da atividade é executar dois métodos supervisionados à escolha do aluno e o método não supervisionado k-means. Nesta atividade serão executados três métodos, são eles: Naive Bayes, Support Vector Machines e, por fim, k-means."
      ]
    },
    {
      "cell_type": "markdown",
      "metadata": {
        "id": "t4NE7hgt3GQU"
      },
      "source": [
        "Importação das bibliotecas necessárias para a execução dos métodos:"
      ]
    },
    {
      "cell_type": "code",
      "metadata": {
        "id": "YZnh7qRAsr3x"
      },
      "source": [
        "from sklearn import datasets,svm\n",
        "import matplotlib.pyplot as plt\n",
        "import numpy\n",
        "from sklearn.naive_bayes import GaussianNB\n",
        "from sklearn.metrics import classification_report, confusion_matrix\n",
        "from sklearn.cluster import KMeans"
      ],
      "execution_count": 43,
      "outputs": []
    },
    {
      "cell_type": "markdown",
      "metadata": {
        "id": "52GpTbUH3YTf"
      },
      "source": [
        "Leitura da base de dados iris:"
      ]
    },
    {
      "cell_type": "code",
      "metadata": {
        "id": "_pCkgqyN3gU4"
      },
      "source": [
        "iris = datasets.load_iris()\n",
        "X = iris.data[:, :2]\n",
        "y = iris.target "
      ],
      "execution_count": 44,
      "outputs": []
    },
    {
      "cell_type": "markdown",
      "metadata": {
        "id": "p67fqWrh3z7Z"
      },
      "source": [
        "Demonstração gráfica dos pontos carregados:"
      ]
    },
    {
      "cell_type": "code",
      "metadata": {
        "colab": {
          "base_uri": "https://localhost:8080/",
          "height": 282
        },
        "id": "gyqKmTFe34gA",
        "outputId": "5c0cdca7-33fc-4bd2-a055-9d068b2ffe29"
      },
      "source": [
        "plt.subplots()\n",
        "plt.scatter(X[:, 0], X[:, 1], c=y, cmap=plt.cm.Set1)\n",
        "plt.xlabel('Comprimento Sepala')\n",
        "plt.ylabel('Largura Sepala')\n",
        "plt.grid(True)\n",
        "plt.show()"
      ],
      "execution_count": 45,
      "outputs": [
        {
          "output_type": "display_data",
          "data": {
            "image/png": "[encoded data removed]",
            "text/plain": [
              "<Figure size 432x288 with 1 Axes>"
            ]
          },
          "metadata": {
            "tags": [],
            "needs_background": "light"
          }
        }
      ]
    },
    {
      "cell_type": "markdown",
      "metadata": {
        "id": "gt4U6Xni4dzH"
      },
      "source": [
        "Obtendo o dados de treinamento:"
      ]
    },
    {
      "cell_type": "code",
      "metadata": {
        "id": "h_iTHYOp4lu0"
      },
      "source": [
        "yt = numpy.concatenate([y[:40], y[51:90], y[101:140]])\n",
        "xt = numpy.concatenate([X[:40,:], X[51:90,:], X[101:140,:]])"
      ],
      "execution_count": 46,
      "outputs": []
    },
    {
      "cell_type": "markdown",
      "metadata": {
        "id": "JwNHr2Rj5qbg"
      },
      "source": [
        "Dados para validação:"
      ]
    },
    {
      "cell_type": "code",
      "metadata": {
        "id": "Opm5kSyp5toP"
      },
      "source": [
        "yv = numpy.concatenate([y[40:50], y[90:100], y[140:150]])\n",
        "xv = numpy.concatenate([X[40:50,:], X[90:100,:], X[140:150,:]])"
      ],
      "execution_count": 47,
      "outputs": []
    },
    {
      "cell_type": "markdown",
      "metadata": {
        "id": "g-tDkrAy5_H_"
      },
      "source": [
        "# Método Gaussiano Naive Bayes"
      ]
    },
    {
      "cell_type": "code",
      "metadata": {
        "id": "zdt1Eounv8O6"
      },
      "source": [
        "gnb = GaussianNB()"
      ],
      "execution_count": 48,
      "outputs": []
    },
    {
      "cell_type": "markdown",
      "metadata": {
        "id": "okpXxazH6dyK"
      },
      "source": [
        "Treinamento do método Gaussiano Naive Bayes:"
      ]
    },
    {
      "cell_type": "code",
      "metadata": {
        "id": "CsKzmuy56kkW",
        "colab": {
          "base_uri": "https://localhost:8080/"
        },
        "outputId": "9f2f3df2-4ac0-4741-87b3-0d3cc36d0db7"
      },
      "source": [
        "gnb.fit(xt,yt)"
      ],
      "execution_count": 49,
      "outputs": [
        {
          "output_type": "execute_result",
          "data": {
            "text/plain": [
              "GaussianNB(priors=None, var_smoothing=1e-09)"
            ]
          },
          "metadata": {
            "tags": []
          },
          "execution_count": 49
        }
      ]
    },
    {
      "cell_type": "markdown",
      "metadata": {
        "id": "qUCkOBt66mq_"
      },
      "source": [
        "Predição do método Gaussiano Naive Bayes comparado aos dados reais:"
      ]
    },
    {
      "cell_type": "code",
      "metadata": {
        "colab": {
          "base_uri": "https://localhost:8080/"
        },
        "id": "Gm9BlLe_6x3T",
        "outputId": "109db6b0-e97a-4ffb-baad-2dd293bb09d3"
      },
      "source": [
        "gnb_predicao = gnb.predict(xv)\n",
        "print(yv)\n",
        "print(gnb_predicao)\n"
      ],
      "execution_count": 64,
      "outputs": [
        {
          "output_type": "stream",
          "text": [
            "[0 0 0 0 0 0 0 0 0 0 1 1 1 1 1 1 1 1 1 1 2 2 2 2 2 2 2 2 2 2]\n",
            "[0 1 0 0 0 0 0 0 0 0 1 1 1 1 1 1 1 1 1 1 2 2 1 2 2 2 1 2 2 1]\n",
            "Quantidade de falsos positivos: 4\n"
          ],
          "name": "stdout"
        }
      ]
    },
    {
      "cell_type": "markdown",
      "metadata": {
        "id": "K0oyuw1e616I"
      },
      "source": [
        "# Método Support Vector Machines"
      ]
    },
    {
      "cell_type": "code",
      "metadata": {
        "id": "hR5Q7W2O1iRn"
      },
      "source": [
        "svm_c = svm.SVC()"
      ],
      "execution_count": 51,
      "outputs": []
    },
    {
      "cell_type": "markdown",
      "metadata": {
        "id": "mFSHZBUH7Agu"
      },
      "source": [
        "Treinamento do SVM:"
      ]
    },
    {
      "cell_type": "code",
      "metadata": {
        "colab": {
          "base_uri": "https://localhost:8080/"
        },
        "id": "NtqV0Thj7CuE",
        "outputId": "f141771b-e9b8-4030-e958-d66774103472"
      },
      "source": [
        "svm_c.fit(xt,yt)"
      ],
      "execution_count": 52,
      "outputs": [
        {
          "output_type": "execute_result",
          "data": {
            "text/plain": [
              "SVC(C=1.0, break_ties=False, cache_size=200, class_weight=None, coef0=0.0,\n",
              "    decision_function_shape='ovr', degree=3, gamma='scale', kernel='rbf',\n",
              "    max_iter=-1, probability=False, random_state=None, shrinking=True,\n",
              "    tol=0.001, verbose=False)"
            ]
          },
          "metadata": {
            "tags": []
          },
          "execution_count": 52
        }
      ]
    },
    {
      "cell_type": "markdown",
      "metadata": {
        "id": "P0trABsI7Fbn"
      },
      "source": [
        "Predição do método SVM comparado aos dados reais:"
      ]
    },
    {
      "cell_type": "code",
      "metadata": {
        "colab": {
          "base_uri": "https://localhost:8080/"
        },
        "id": "67JgBYBj7IMb",
        "outputId": "c0399952-48b1-4eb6-8920-bb5432bd869f"
      },
      "source": [
        "svm_predicao = svm_c.predict(xv)\n",
        "print(yv)\n",
        "print(svm_predicao)\n"
      ],
      "execution_count": 65,
      "outputs": [
        {
          "output_type": "stream",
          "text": [
            "[0 0 0 0 0 0 0 0 0 0 1 1 1 1 1 1 1 1 1 1 2 2 2 2 2 2 2 2 2 2]\n",
            "[0 0 0 0 0 0 0 0 0 0 1 1 1 1 1 1 1 1 1 1 2 2 1 2 2 2 1 2 1 1]\n",
            "Quantidade de falos positivos: 4\n"
          ],
          "name": "stdout"
        }
      ]
    },
    {
      "cell_type": "markdown",
      "metadata": {
        "id": "yUPnjH8m9OLI"
      },
      "source": [
        "# Método K-means"
      ]
    },
    {
      "cell_type": "code",
      "metadata": {
        "id": "b30NVKyp9qHD"
      },
      "source": [
        "metodo_kmeans = KMeans(n_clusters= 3)"
      ],
      "execution_count": 54,
      "outputs": []
    },
    {
      "cell_type": "markdown",
      "metadata": {
        "id": "3Si6k3_091au"
      },
      "source": [
        "Treinamento do método K-means"
      ]
    },
    {
      "cell_type": "code",
      "metadata": {
        "colab": {
          "base_uri": "https://localhost:8080/"
        },
        "id": "aJFjXUYb96Vs",
        "outputId": "cba6de42-ae2c-402f-de50-9a8270df85b3"
      },
      "source": [
        "metodo_kmeans.fit(xt, yt)"
      ],
      "execution_count": 55,
      "outputs": [
        {
          "output_type": "execute_result",
          "data": {
            "text/plain": [
              "KMeans(algorithm='auto', copy_x=True, init='k-means++', max_iter=300,\n",
              "       n_clusters=3, n_init=10, n_jobs=None, precompute_distances='auto',\n",
              "       random_state=None, tol=0.0001, verbose=0)"
            ]
          },
          "metadata": {
            "tags": []
          },
          "execution_count": 55
        }
      ]
    },
    {
      "cell_type": "markdown",
      "metadata": {
        "id": "Wz4zxexz-F8A"
      },
      "source": [
        "Predição do método K-means comparado aos dados reais"
      ]
    },
    {
      "cell_type": "code",
      "metadata": {
        "colab": {
          "base_uri": "https://localhost:8080/"
        },
        "id": "2QELCKTl-thS",
        "outputId": "5c88701b-ae52-42e6-e226-6a69c9cddd11"
      },
      "source": [
        "kmeans_predicao = metodo_kmeans.predict(xv)\n",
        "print(yv)\n",
        "print(kmeans_predicao)\n"
      ],
      "execution_count": 66,
      "outputs": [
        {
          "output_type": "stream",
          "text": [
            "[0 0 0 0 0 0 0 0 0 0 1 1 1 1 1 1 1 1 1 1 2 2 2 2 2 2 2 2 2 2]\n",
            "[0 0 0 0 0 0 0 0 0 0 2 2 2 0 2 2 2 2 0 2 1 1 2 1 1 1 2 2 2 2]\n",
            "Quantidade de falsos positivos: 15\n"
          ],
          "name": "stdout"
        }
      ]
    },
    {
      "cell_type": "markdown",
      "metadata": {
        "id": "UBqDOmvQ7VBf"
      },
      "source": [
        "#Matrizes de confusão \n",
        "![image.png](data:image/png;base64,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)\n"
      ]
    },
    {
      "cell_type": "markdown",
      "metadata": {
        "id": "UVXXOpD1_Xw0"
      },
      "source": [
        "**Support Vector Machine**"
      ]
    },
    {
      "cell_type": "code",
      "metadata": {
        "colab": {
          "base_uri": "https://localhost:8080/"
        },
        "id": "mC3kuXGN7xw2",
        "outputId": "2bc62a11-bdbd-4152-ec43-7c49281a4a2e"
      },
      "source": [
        "print(confusion_matrix(yv, svm_predicao))"
      ],
      "execution_count": 57,
      "outputs": [
        {
          "output_type": "stream",
          "text": [
            "[[10  0  0]\n",
            " [ 0 10  0]\n",
            " [ 0  4  6]]\n"
          ],
          "name": "stdout"
        }
      ]
    },
    {
      "cell_type": "markdown",
      "metadata": {
        "id": "Ak_Fi_vp8DYF"
      },
      "source": [
        "**Naive Bayes**"
      ]
    },
    {
      "cell_type": "code",
      "metadata": {
        "colab": {
          "base_uri": "https://localhost:8080/"
        },
        "id": "qJxV47AD8NrV",
        "outputId": "b2f12b3c-34d1-4e8e-e7b2-f2fbe065d329"
      },
      "source": [
        "print(confusion_matrix(yv, gnb_predicao))"
      ],
      "execution_count": 58,
      "outputs": [
        {
          "output_type": "stream",
          "text": [
            "[[ 9  1  0]\n",
            " [ 0 10  0]\n",
            " [ 0  3  7]]\n"
          ],
          "name": "stdout"
        }
      ]
    },
    {
      "cell_type": "markdown",
      "metadata": {
        "id": "L3Bw2Y1H_ZUt"
      },
      "source": [
        "**K-means**"
      ]
    },
    {
      "cell_type": "code",
      "metadata": {
        "colab": {
          "base_uri": "https://localhost:8080/"
        },
        "id": "o1bDLxe__cee",
        "outputId": "11741164-a4da-4431-d396-d5a451bc1080"
      },
      "source": [
        "print(confusion_matrix(yv, kmeans_predicao))"
      ],
      "execution_count": 59,
      "outputs": [
        {
          "output_type": "stream",
          "text": [
            "[[10  0  0]\n",
            " [ 2  0  8]\n",
            " [ 0  5  5]]\n"
          ],
          "name": "stdout"
        }
      ]
    },
    {
      "cell_type": "markdown",
      "metadata": {
        "id": "ADqH2MyU8YCJ"
      },
      "source": [
        "# Resultados Finais\n",
        "\n",
        "**Support Vector Machine**"
      ]
    },
    {
      "cell_type": "code",
      "metadata": {
        "colab": {
          "base_uri": "https://localhost:8080/"
        },
        "id": "rP8Sqitn9EGP",
        "outputId": "97c5e59c-3698-4c62-d4ef-e3b2e59aa0ba"
      },
      "source": [
        "print(classification_report(yv, svm_predicao))\n",
        "print(f'Quantidade de falos positivos: {(yv!=svm_predicao).sum()}')"
      ],
      "execution_count": 68,
      "outputs": [
        {
          "output_type": "stream",
          "text": [
            "              precision    recall  f1-score   support\n",
            "\n",
            "           0       1.00      1.00      1.00        10\n",
            "           1       0.71      1.00      0.83        10\n",
            "           2       1.00      0.60      0.75        10\n",
            "\n",
            "    accuracy                           0.87        30\n",
            "   macro avg       0.90      0.87      0.86        30\n",
            "weighted avg       0.90      0.87      0.86        30\n",
            "\n",
            "Quantidade de falos positivos: 4\n"
          ],
          "name": "stdout"
        }
      ]
    },
    {
      "cell_type": "markdown",
      "metadata": {
        "id": "_UjHmpbe9Vu1"
      },
      "source": [
        "**Naive Bayes**"
      ]
    },
    {
      "cell_type": "code",
      "metadata": {
        "colab": {
          "base_uri": "https://localhost:8080/"
        },
        "id": "VbXI0qFU9ZvB",
        "outputId": "438191fe-4f7e-4fa3-d30e-57a80a8c4502"
      },
      "source": [
        "print(classification_report(yv, gnb_predicao))\n",
        "print(f'Quantidade de falsos positivos: {(yv!=gnb_predicao).sum()}')"
      ],
      "execution_count": 69,
      "outputs": [
        {
          "output_type": "stream",
          "text": [
            "              precision    recall  f1-score   support\n",
            "\n",
            "           0       1.00      0.90      0.95        10\n",
            "           1       0.71      1.00      0.83        10\n",
            "           2       1.00      0.70      0.82        10\n",
            "\n",
            "    accuracy                           0.87        30\n",
            "   macro avg       0.90      0.87      0.87        30\n",
            "weighted avg       0.90      0.87      0.87        30\n",
            "\n",
            "Quantidade de falsos positivos: 4\n"
          ],
          "name": "stdout"
        }
      ]
    },
    {
      "cell_type": "markdown",
      "metadata": {
        "id": "UG4nzpNfADeK"
      },
      "source": [
        "**K-means**"
      ]
    },
    {
      "cell_type": "code",
      "metadata": {
        "colab": {
          "base_uri": "https://localhost:8080/"
        },
        "id": "0NgG6YPAAFrW",
        "outputId": "01da0673-1467-42ea-cce1-383d4d6594bb"
      },
      "source": [
        "print(classification_report(yv, kmeans_predicao))\n",
        "print(f'Quantidade de falsos positivos: {(yv!=kmeans_predicao).sum()}')"
      ],
      "execution_count": 67,
      "outputs": [
        {
          "output_type": "stream",
          "text": [
            "              precision    recall  f1-score   support\n",
            "\n",
            "           0       0.83      1.00      0.91        10\n",
            "           1       0.00      0.00      0.00        10\n",
            "           2       0.38      0.50      0.43        10\n",
            "\n",
            "    accuracy                           0.50        30\n",
            "   macro avg       0.41      0.50      0.45        30\n",
            "weighted avg       0.41      0.50      0.45        30\n",
            "\n",
            "Quantidade de falsos positivos: 15\n"
          ],
          "name": "stdout"
        }
      ]
    }
  ]
}